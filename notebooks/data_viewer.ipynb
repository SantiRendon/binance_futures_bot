{
 "cells": [
  {
   "cell_type": "code",
   "execution_count": 1,
   "metadata": {},
   "outputs": [],
   "source": [
    "from binance.client import Client\n",
    "from datetime import datetime, timezone\n",
    "import csv\n",
    "\n",
    "# Claves API de tu cuenta mock\n",
    "api_key = '7de4ca57d53aac719f84f4f2f1ceee269512766e19734dca3beaec464c92a2d1'\n",
    "api_secret = '15122b41c53e6293bd122333bf8f31a12e7f8b876595a290473487e38a25d3f0'\n",
    "\n",
    "# Conexión con Binance Futures testnet\n",
    "client = Client(api_key, api_secret, testnet=True)\n",
    "client.FUTURES_URL = \"https://testnet.binancefuture.com/fapi/v1\""
   ]
  },
  {
   "cell_type": "code",
   "execution_count": 5,
   "metadata": {},
   "outputs": [
    {
     "name": "stdout",
     "output_type": "stream",
     "text": [
      "Available pairs: ['BTCUSDT', 'ETHUSDT', 'BCHUSDT', 'XRPUSDT', 'EOSUSDT', 'LTCUSDT', 'TRXUSDT', 'ETCUSDT', 'LINKUSDT', 'XLMUSDT', 'ADAUSDT', 'DASHUSDT', 'ZECUSDT', 'XTZUSDT', 'BNBUSDT', 'ATOMUSDT', 'ONTUSDT', 'IOTAUSDT', 'BATUSDT', 'VETUSDT', 'NEOUSDT', 'QTUMUSDT', 'IOSTUSDT', 'THETAUSDT', 'ALGOUSDT', 'ZILUSDT', 'KNCUSDT', 'ZRXUSDT', 'COMPUSDT', 'OMGUSDT', 'DOGEUSDT', 'SXPUSDT', 'KAVAUSDT', 'BANDUSDT', 'RLCUSDT', 'WAVESUSDT', 'MKRUSDT', 'SNXUSDT', 'DOTUSDT', 'DEFIUSDT', 'YFIUSDT', 'BALUSDT', 'CRVUSDT', 'TRBUSDT', 'RUNEUSDT', 'SUSHIUSDT', 'EGLDUSDT', 'SOLUSDT', 'ICXUSDT', 'STORJUSDT', 'UNIUSDT', 'AVAXUSDT', 'FTMUSDT', 'ENJUSDT', 'FLMUSDT', 'TOMOUSDT', 'RENUSDT', 'KSMUSDT', 'NEARUSDT', 'AAVEUSDT', 'FILUSDT', 'RSRUSDT', 'LRCUSDT', 'OCEANUSDT', 'BELUSDT', 'CTKUSDT', 'AXSUSDT', 'ALPHAUSDT', 'ZENUSDT', 'SKLUSDT', 'GRTUSDT', 'BNTUSDT', '1INCHUSDT', 'UNFIUSDT', 'CHZUSDT', 'SANDUSDT', 'ANKRUSDT', 'LITUSDT', 'REEFUSDT', 'RVNUSDT', 'SFPUSDT', 'XEMUSDT', 'BTCSTUSDT', 'COTIUSDT', 'CHRUSDT', 'MANAUSDT', 'ALICEUSDT', 'HBARUSDT', 'ONEUSDT', 'LINAUSDT', 'STMXUSDT', 'DENTUSDT', 'CELRUSDT', 'HOTUSDT', 'MTLUSDT', 'OGNUSDT', 'NKNUSDT', 'DGBUSDT', '1000SHIBUSDT', 'BAKEUSDT', 'GTCUSDT', 'BTCDOMUSDT', 'MASKUSDT', 'IOTXUSDT', 'AUDIOUSDT', 'C98USDT', 'ATAUSDT', 'DYDXUSDT', '1000XECUSDT', 'GALAUSDT', 'CELOUSDT', 'ARUSDT', 'KLAYUSDT', 'ARPAUSDT', 'CTSIUSDT', 'LPTUSDT', 'ENSUSDT', 'PEOPLEUSDT', 'ANTUSDT', 'ROSEUSDT', 'DUSKUSDT', 'FLOWUSDT', 'IMXUSDT', 'API3USDT', 'GMTUSDT', 'APEUSDT', 'WOOUSDT', 'JASMYUSDT', 'DARUSDT', 'OPUSDT', 'XMRUSDT', 'INJUSDT', 'STGUSDT', 'SPELLUSDT', '1000LUNCUSDT', 'LUNA2USDT', 'LDOUSDT', 'CVXUSDT', 'FOOTBALLUSDT', 'APTUSDT', 'QNTUSDT', 'BLUEBIRDUSDT', 'FXSUSDT', 'HOOKUSDT', 'MAGICUSDT', 'TUSDT', 'HIGHUSDT', 'MINAUSDT', 'ASTRUSDT', 'PHBUSDT', 'AGIXUSDT', 'FETUSDT', 'GMXUSDT', 'CFXUSDT', 'STXUSDT', 'BNXUSDT', 'ACHUSDT', 'SSVUSDT', 'CKBUSDT', 'PERPUSDT', 'LQTYUSDT', 'USDCUSDT', 'ARBUSDT', 'IDUSDT', 'JOEUSDT', 'AMBUSDT', 'LEVERUSDT', 'TRUUSDT', 'RDNTUSDT', 'ETHBTC', 'HFTUSDT', 'XVSUSDT', 'BLURUSDT', 'EDUUSDT', 'IDEXUSDT', '1000PEPEUSDT', '1000FLOKIUSDT', 'RADUSDT', 'UMAUSDT', 'KEYUSDT', 'COMBOUSDT', 'SUIUSDT', 'NMRUSDT', 'MAVUSDT', 'MDTUSDT', 'XVGUSDT', 'WLDUSDT', 'PENDLEUSDT', 'ARKMUSDT', 'AGLDUSDT', 'YGGUSDT', 'DODOXUSDT', 'OXTUSDT', 'SEIUSDT', 'CYBERUSDT', 'HIFIUSDT', 'ARKUSDT', 'GLMRUSDT', 'BICOUSDT', 'STRAXUSDT', 'LOOMUSDT', 'BIGTIMEUSDT', 'BONDUSDT', 'ORBSUSDT', 'STPTUSDT', 'WAXPUSDT', 'BSVUSDT', 'RIFUSDT', 'POLYXUSDT', 'GASUSDT', 'POWRUSDT', 'SLPUSDT', 'TIAUSDT', 'SNTUSDT', 'CAKEUSDT', 'MEMEUSDT', 'TOKENUSDT', 'ORDIUSDT', 'STEEMUSDT', 'BADGERUSDT', 'ILVUSDT', 'NTRNUSDT', 'MBLUSDT', 'KASUSDT', 'BEAMXUSDT', '1000BONKUSDT', 'PYTHUSDT', 'SUPERUSDT', 'USTCUSDT', 'ONGUSDT', 'ETHWUSDT', 'JTOUSDT', '1000SATSUSDT', 'AUCTIONUSDT', '1000RATSUSDT', 'ACEUSDT', 'MOVRUSDT', 'TWTUSDT', 'NFPUSDT', 'BTCUSDC', 'ETHUSDC', 'BNBUSDC', 'XRPUSDC', 'SOLUSDC', 'AIUSDT', 'XAIUSDT', 'DOGEUSDC', 'WIFUSDT', 'MANTAUSDT', 'ONDOUSDT', 'LSKUSDT', 'ALTUSDT', 'JUPUSDT', 'ZETAUSDT', 'RONINUSDT', 'SUIUSDC', 'DYMUSDT', 'OMUSDT', 'LINKUSDC', 'PIXELUSDT', 'ORDIUSDC', 'STRKUSDT', 'MAVIAUSDT', 'GLMUSDT', 'PORTALUSDT', 'TONUSDT', 'AXLUSDT', 'MYROUSDT', '1000PEPEUSDC', 'METISUSDT', 'AEVOUSDT', 'WLDUSDC', 'VANRYUSDT', 'BOMEUSDT', 'AVAXUSDC', '1000SHIBUSDC', 'ETHFIUSDT', 'ENAUSDT', 'BCHUSDC', 'WIFUSDC', 'WUSDT', 'TNSRUSDT', 'SAGAUSDT', 'NEARUSDC', 'LTCUSDC', 'TAOUSDT', 'ARBUSDC', 'NEOUSDC', 'FILUSDC', 'OMNIUSDT', 'BOMEUSDC', 'TIAUSDC', 'REZUSDT', 'ETHFIUSDC', 'ENAUSDC', '1000BONKUSDC', 'BBUSDT', 'NOTUSDT', 'TURBOUSDT', 'IOUSDT', 'ZKUSDT', 'MEWUSDT', 'LISTAUSDT', 'ZROUSDT', 'CRVUSDC', 'RENDERUSDT', 'BANANAUSDT', 'RAREUSDT', 'GUSDT', 'SYNUSDT', 'SYSUSDT', 'VOXELUSDT', 'BRETTUSDT', 'ALPACAUSDT', 'POPCATUSDT', 'SUNUSDT', 'VIDTUSDT', 'NULSUSDT', 'DOGSUSDT', 'MBOXUSDT', 'CHESSUSDT', 'FLUXUSDT', 'BSWUSDT', 'QUICKUSDT', 'NEIROETHUSDT', 'RPLUSDT', 'AERGOUSDT', 'POLUSDT', 'UXLINKUSDT', 'NEIROUSDT', '1MBABYDOGEUSDT', 'KDAUSDT', 'FIDAUSDT', 'FIOUSDT', 'CATIUSDT', 'GHSTUSDT', 'LOKAUSDT', 'ETHUSDT_250328', 'BTCUSDT_250328', 'HMSTRUSDT', 'REIUSDT', 'COSUSDT', 'EIGENUSDT', 'DIAUSDT', '1000CATUSDT', 'SCRUSDT', 'GOATUSDT', 'MOODENGUSDT', 'SAFEUSDT', 'SANTOSUSDT', 'TROYUSDT', 'PONKEUSDT', 'CETUSUSDT', 'COWUSDT', '1000000MOGUSDT', 'GRASSUSDT', 'DRIFTUSDT', 'SWELLUSDT', 'PNUTUSDT', 'ACTUSDT', 'HIPPOUSDT', '1000XUSDT', 'DEGENUSDT', 'BANUSDT', 'AKTUSDT', 'SLERFUSDT', 'SCRTUSDT', '1000WHYUSDT', '1000CHEEMSUSDT', 'THEUSDT', 'MORPHOUSDT', 'CHILLGUYUSDT', 'KAIAUSDT', 'AEROUSDT', 'ACXUSDT', 'ORCAUSDT', 'MOVEUSDT', 'RAYSOLUSDT', 'VIRTUALUSDT', 'SPXUSDT', 'KOMAUSDT', 'MEUSDT', 'ABCCCUSDT', 'AVAUSDT', 'DEGOUSDT', 'VELODROMEUSDT', 'MOCAUSDT', 'VANAUSDT', 'PENGUUSDT', 'LUMIAUSDT', 'USUALUSDT', 'KMNOUSDT', 'CGPTUSDT', 'AIXBTUSDT', 'FARTCOINUSDT', 'HIVEUSDT', 'ETHUSDT_250627', 'DEXEUSDT', 'BTCUSDT_250627', 'PHAUSDT', 'DFUSDT', 'GRIFFAINUSDT', 'AI16ZUSDT', 'ZEREBROUSDT', 'BIOUSDT', 'COOKIEUSDT', 'ALCHUSDT', 'SWARMSUSDT', 'SONICUSDT', 'DUSDT']\n"
     ]
    }
   ],
   "source": [
    "def list_available_pairs():\n",
    "    \"\"\"List all available trading pairs on Binance Futures.\"\"\"\n",
    "    exchange_info = client.futures_exchange_info()\n",
    "    symbols = [symbol['symbol'] for symbol in exchange_info['symbols']]\n",
    "    return symbols\n",
    "\n",
    "# Ejecuta para listar pares\n",
    "available_pairs = list_available_pairs()\n",
    "\n",
    "print(f\"Available pairs: {available_pairs}\")\n"
   ]
  },
  {
   "cell_type": "code",
   "execution_count": 6,
   "metadata": {},
   "outputs": [
    {
     "name": "stdout",
     "output_type": "stream",
     "text": [
      "Current prices:\n",
      "BTCUSDT: 96464.2\n",
      "ETHUSDT: 3232.48\n",
      "BNBUSDT: 706.779\n"
     ]
    }
   ],
   "source": [
    "def get_current_prices(pairs):\n",
    "    \"\"\"Fetch the current prices for the specified trading pairs.\"\"\"\n",
    "    prices = {}\n",
    "    for pair in pairs:\n",
    "        try:\n",
    "            ticker = client.futures_symbol_ticker(symbol=pair)\n",
    "            prices[pair] = float(ticker['price'])\n",
    "        except Exception as e:\n",
    "            print(f\"Error fetching price for {pair}: {e}\")\n",
    "    return prices\n",
    "\n",
    "# Especifica los pares\n",
    "pairs_to_check = [\"BTCUSDT\", \"ETHUSDT\", \"BNBUSDT\"]\n",
    "\n",
    "# Ejecuta para obtener precios actuales\n",
    "current_prices = get_current_prices(pairs_to_check)\n",
    "\n",
    "print(\"Current prices:\")\n",
    "\n",
    "for pair, price in current_prices.items():\n",
    "    print(f\"{pair}: {price}\")\n"
   ]
  },
  {
   "cell_type": "code",
   "execution_count": 11,
   "metadata": {},
   "outputs": [
    {
     "data": {
      "text/plain": [
       "[[1736877300000,\n",
       "  '95990.40',\n",
       "  '95998.00',\n",
       "  '95990.40',\n",
       "  '95997.90',\n",
       "  '0.655',\n",
       "  1736877599999,\n",
       "  '62877.05370',\n",
       "  62,\n",
       "  '0.381',\n",
       "  '36575.21910',\n",
       "  '0'],\n",
       " [1736877600000,\n",
       "  '95997.90',\n",
       "  '97198.00',\n",
       "  '95997.90',\n",
       "  '96686.00',\n",
       "  '7.105',\n",
       "  1736877899999,\n",
       "  '686014.44980',\n",
       "  170,\n",
       "  '4.811',\n",
       "  '464275.01770',\n",
       "  '0'],\n",
       " [1736877900000,\n",
       "  '96699.80',\n",
       "  '96699.90',\n",
       "  '96686.00',\n",
       "  '96686.10',\n",
       "  '1.593',\n",
       "  1736878199999,\n",
       "  '154028.30650',\n",
       "  24,\n",
       "  '0.540',\n",
       "  '52217.93600',\n",
       "  '0'],\n",
       " [1736878200000,\n",
       "  '96686.10',\n",
       "  '97200.00',\n",
       "  '96686.00',\n",
       "  '96686.10',\n",
       "  '6.502',\n",
       "  1736878499999,\n",
       "  '629399.24130',\n",
       "  65,\n",
       "  '5.601',\n",
       "  '542284.99330',\n",
       "  '0'],\n",
       " [1736878500000,\n",
       "  '97198.00',\n",
       "  '97279.00',\n",
       "  '96425.10',\n",
       "  '97279.00',\n",
       "  '21.792',\n",
       "  1736878799999,\n",
       "  '2113035.73600',\n",
       "  151,\n",
       "  '10.825',\n",
       "  '1051532.86730',\n",
       "  '0']]"
      ]
     },
     "execution_count": 11,
     "metadata": {},
     "output_type": "execute_result"
    }
   ],
   "source": [
    "def get_historical_prices(symbol, interval, start_time=None, end_time=None, limit=100):\n",
    "    \"\"\"\n",
    "    Fetch historical price data (candlesticks) for a given trading pair.\n",
    "    \"\"\"\n",
    "    try:\n",
    "        if isinstance(start_time, str):\n",
    "            start_time = int(datetime.strptime(start_time, \"%Y-%m-%d\").timestamp() * 1000)\n",
    "        if isinstance(end_time, str):\n",
    "            end_time = int(datetime.strptime(end_time, \"%Y-%m-%d\").timestamp() * 1000)\n",
    "\n",
    "        klines = client.futures_klines(\n",
    "            symbol=symbol,\n",
    "            interval=interval,\n",
    "            startTime=start_time,\n",
    "            endTime=end_time,\n",
    "            limit=limit\n",
    "        )\n",
    "        return klines\n",
    "    except Exception as e:\n",
    "        print(f\"Error fetching historical prices for {symbol}: {e}\")\n",
    "        return []\n",
    "\n",
    "# Obtén datos históricos de BTC\n",
    "btc_historical = get_historical_prices(\"BTCUSDT\", \"5m\", limit=100)\n",
    "btc_historical[:5]  # Muestra las primeras 5 filas\n"
   ]
  },
  {
   "cell_type": "code",
   "execution_count": 12,
   "metadata": {},
   "outputs": [
    {
     "name": "stdout",
     "output_type": "stream",
     "text": [
      "Historical data exported to data/BTCUSDT_5m_2025-01-14_21-13-42.csv\n"
     ]
    }
   ],
   "source": [
    "def export_to_csv(klines, symbol, interval):\n",
    "    \"\"\"\n",
    "    Export kline (candlestick) data to a CSV file with a dynamic filename.\n",
    "    \n",
    "    The filename includes the symbol, interval, and current date to avoid overwriting.\n",
    "    \"\"\"\n",
    "    # Generar el nombre del archivo dinámicamente\n",
    "    current_date = datetime.now().strftime('%Y-%m-%d_%H-%M-%S')  # Fecha y hora actual\n",
    "    filename = f\"data/{symbol}_{interval}_{current_date}.csv\"\n",
    "    \n",
    "    headers = [\n",
    "        \"Open Time\", \"Open\", \"High\", \"Low\", \"Close\", \"Volume\",\n",
    "        \"Close Time\", \"Quote Asset Volume\", \"Number of Trades\",\n",
    "        \"Taker Buy Base Volume\", \"Taker Buy Quote Volume\", \"Ignore\"\n",
    "    ]\n",
    "    with open(filename, mode=\"w\", newline=\"\") as file:\n",
    "        writer = csv.writer(file)\n",
    "        writer.writerow(headers)  # Write the header row\n",
    "        for kline in klines:\n",
    "            kline[0] = datetime.fromtimestamp(kline[0] / 1000, tz=timezone.utc).strftime('%Y-%m-%d %H:%M:%S')\n",
    "            kline[6] = datetime.fromtimestamp(kline[6] / 1000, tz=timezone.utc).strftime('%Y-%m-%d %H:%M:%S')\n",
    "            writer.writerow(kline)  # Write each kline as a row\n",
    "    \n",
    "    print(f\"Historical data exported to {filename}\")\n",
    "\n",
    "# Exporta los datos históricos de BTC a un archivo CSV\n",
    "export_to_csv(btc_historical, \"BTCUSDT\", \"5m\")\n"
   ]
  }
 ],
 "metadata": {
  "kernelspec": {
   "display_name": ".venv",
   "language": "python",
   "name": "python3"
  },
  "language_info": {
   "codemirror_mode": {
    "name": "ipython",
    "version": 3
   },
   "file_extension": ".py",
   "mimetype": "text/x-python",
   "name": "python",
   "nbconvert_exporter": "python",
   "pygments_lexer": "ipython3",
   "version": "3.12.4"
  }
 },
 "nbformat": 4,
 "nbformat_minor": 2
}
